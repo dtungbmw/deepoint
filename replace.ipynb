{
 "cells": [
  {
   "cell_type": "code",
   "execution_count": 7,
   "id": "f0f7e30b-63eb-41f0-9583-30f3bb8de726",
   "metadata": {},
   "outputs": [],
   "source": [
    "from PIL import Image, ImageFilter, ImageEnhance\n",
    "\n",
    "def blend_object_with_background(base_image_path, replacement_image_path, bbox_coords):\n",
    "    \"\"\"\n",
    "    Replaces the object in the base image (bounded by bbox_coords) with a replacement image and blends it.\n",
    "    \n",
    "    Args:\n",
    "    base_image_path (str): Path to the base image (where the object will be replaced).\n",
    "    replacement_image_path (str): Path to the replacement image.\n",
    "    bbox_coords (tuple): Bounding box coordinates as (x1, y1, x2, y2).\n",
    "    \n",
    "    Returns:\n",
    "    Image: The image with the object replaced and blended into the background.\n",
    "    \"\"\"\n",
    "    # Load the base image and the replacement image\n",
    "    base_image = Image.open(base_image_path).convert('RGB')\n",
    "    replacement_image = Image.open(replacement_image_path).convert('RGBA')  # Ensure it has alpha channel\n",
    "    \n",
    "    # Extract bounding box coordinates\n",
    "    x1, y1, x2, y2 = bbox_coords\n",
    "    \n",
    "    # Calculate the size of the bounding box\n",
    "    bbox_width = x2 - x1\n",
    "    bbox_height = y2 - y1\n",
    "    \n",
    "    # Resize the replacement image to fit inside the bounding box\n",
    "    replacement_image = replacement_image.resize((bbox_width, bbox_height))\n",
    "    \n",
    "    # Create a mask for the replacement image by applying a Gaussian blur for smooth blending\n",
    "    mask = replacement_image.split()[3]  # Get alpha channel as the mask\n",
    "    mask = mask.filter(ImageFilter.GaussianBlur(10))  # Apply Gaussian blur to the mask for blending\n",
    "    \n",
    "    # Paste the replacement image onto the base image at the bounding box location using the blurred mask\n",
    "    base_image.paste(replacement_image, (x1, y1), mask)\n",
    "    \n",
    "    # Optionally enhance brightness/contrast to blend it better\n",
    "    enhancer = ImageEnhance.Brightness(base_image)\n",
    "    base_image = enhancer.enhance(1.05)  # Slightly brighten the image for a better blend\n",
    "\n",
    "    # Return the modified image\n",
    "    return base_image\n",
    "\n",
    "# Example usage\n",
    "base_image_path = \"./demo/source.jpg\"  # Replace with your base image path\n",
    "replacement_image_path = \"./demo/lampobj.jpg\"  # Replace with your replacement image path\n",
    "bbox_coords = (1660, 780, 1720, 860)  # Example bounding box coordinates (x1, y1, x2, y2)\n",
    "\n",
    "# Perform the replacement and blending\n",
    "result_image = blend_object_with_background(base_image_path, replacement_image_path, bbox_coords)\n",
    "\n",
    "# Save or show the result\n",
    "result_image.show()  # Show the image\n",
    "result_image.save(\"output_image_blended.png\")  # Save the modified image\n"
   ]
  },
  {
   "cell_type": "code",
   "execution_count": null,
   "id": "74dfaf98-aaf8-4c71-a42a-fce10d566972",
   "metadata": {},
   "outputs": [],
   "source": []
  }
 ],
 "metadata": {
  "kernelspec": {
   "display_name": "Python 3 (ipykernel)",
   "language": "python",
   "name": "python3"
  },
  "language_info": {
   "codemirror_mode": {
    "name": "ipython",
    "version": 3
   },
   "file_extension": ".py",
   "mimetype": "text/x-python",
   "name": "python",
   "nbconvert_exporter": "python",
   "pygments_lexer": "ipython3",
   "version": "3.10.9"
  }
 },
 "nbformat": 4,
 "nbformat_minor": 5
}
